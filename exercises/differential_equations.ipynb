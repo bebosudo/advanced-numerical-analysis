{
 "cells": [
  {
   "cell_type": "markdown",
   "metadata": {},
   "source": [
    "## Euler method to solve Cauchy problems\n",
    "\n",
    "The Euler method uses an approximation on the different quotient to solve differential equations of the form: $y' = \\lambda y = f(t, y(t))$.\n",
    "\n",
    "$$y'(t) = \\lim_{h \\rightarrow 0} \\frac{y(t+h) - y(t)}{h}$$\n",
    "\n",
    "If we consider an $h$ small enough, such as during a numerical approximation:\n",
    "\n",
    "$$\\frac{y(t+h) - y(t)}{h} \\approx f(t, y(t))\\\\\n",
    "y(t+h) \\approx y(t) + h \\; f(t, y(t))$$\n",
    "\n",
    "The previous result means that we can start from the initial condition $y(t_0) = y_0$ and compute an approximation at the following moments.\n",
    "\n",
    "If we discretize the time from $[t_0, t_f]$ to the set $\\{t_0, t_1, t_2, \\dots, t_n\\}$, the generic instant $t$ becomes $t_j$, while the instant $t+h$ after a time step of size $h$ becomes $t_{j+1}$, and the discrete version of the differential equation becomes:\n",
    "\n",
    "$$y_{j+1} = y_j + h \\; f(t_j, y_j)$$"
   ]
  },
  {
   "cell_type": "code",
   "execution_count": 4,
   "metadata": {},
   "outputs": [],
   "source": [
    "import numpy as np"
   ]
  },
  {
   "cell_type": "code",
   "execution_count": 50,
   "metadata": {},
   "outputs": [],
   "source": [
    "def forward_euler(func, y_0, interval, num_steps):\n",
    "    t_0, t_f = interval\n",
    "    \n",
    "    y_t = np.empty((num_steps,))\n",
    "    y_t[t_0] = y_0\n",
    "    \n",
    "    step_size = (t_f - t_0)/num_steps\n",
    "\n",
    "    for current_instant, y_j in enumerate(y_t):\n",
    "        if current_instant + 1 >= num_steps:\n",
    "            break\n",
    "        \n",
    "        t_j = t_0 + current_instant * step_size\n",
    "        \n",
    "        y_t[current_instant + 1] = y_j + step_size * func(t_j, y_j)\n",
    "\n",
    "    return y_t"
   ]
  },
  {
   "cell_type": "code",
   "execution_count": 53,
   "metadata": {},
   "outputs": [
    {
     "name": "stdout",
     "output_type": "stream",
     "text": [
      "0 1.2\n",
      "1 1.2014773844476343\n",
      "2 1.2029747764273073\n",
      "3 1.204492558860682\n",
      "4 1.2060311239845622\n",
      "5 1.207590873622409\n",
      "6 1.2091722194649803\n",
      "7 1.2107755833604346\n",
      "8 1.2124013976142576\n",
      "9 1.2140501052993857\n",
      "10 1.2157221605769106\n",
      "11 1.2174180290277705\n",
      "12 1.219138187995849\n",
      "13 1.2208831269429175\n",
      "14 1.2226533478158803\n",
      "15 1.2244493654267963\n",
      "16 1.2262717078461711\n",
      "17 1.2281209168100402\n",
      "18 1.2299975481413774\n",
      "19 1.2319021721863912\n",
      "20 1.2338353742662946\n",
      "21 1.2357977551451567\n",
      "22 1.2377899315144711\n",
      "23 1.2398125364951083\n",
      "24 1.2418662201573365\n",
      "25 1.2439516500596395\n",
      "26 1.246069511807076\n",
      "27 1.2482205096299712\n",
      "28 1.2504053669837556\n",
      "29 1.2526248271708036\n",
      "30 1.2548796539851672\n",
      "31 1.2571706323811285\n",
      "32 1.2594985691665446\n",
      "33 1.261864293721996\n",
      "34 1.2642686587467935\n",
      "35 1.2667125410329472\n",
      "36 1.2691968422682463\n",
      "37 1.2717224898696529\n",
      "38 1.2742904378482607\n",
      "39 1.2769016677071288\n",
      "40 1.2795571893733542\n",
      "41 1.2822580421658119\n",
      "42 1.2850052958000469\n",
      "43 1.2878000514318764\n",
      "44 1.2906434427413198\n"
     ]
    }
   ],
   "source": [
    "# func = lambda t, y: y**2\n",
    "func = lambda t, y: np.power(np.log(y), 2)\n",
    "y_0 = 1.2\n",
    "interval = (0, 2)\n",
    "N = 45\n",
    "\n",
    "arr = forward_euler(func, y_0, interval, N)\n",
    "\n",
    "for i, y_i in enumerate(arr):\n",
    "    print(i, y_i)"
   ]
  },
  {
   "cell_type": "code",
   "execution_count": null,
   "metadata": {},
   "outputs": [],
   "source": []
  }
 ],
 "metadata": {
  "kernelspec": {
   "display_name": "Python 3",
   "language": "python",
   "name": "python3"
  },
  "language_info": {
   "codemirror_mode": {
    "name": "ipython",
    "version": 3
   },
   "file_extension": ".py",
   "mimetype": "text/x-python",
   "name": "python",
   "nbconvert_exporter": "python",
   "pygments_lexer": "ipython3",
   "version": "3.6.2"
  }
 },
 "nbformat": 4,
 "nbformat_minor": 2
}
