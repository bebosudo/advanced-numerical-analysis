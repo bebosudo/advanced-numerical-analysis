{
 "cells": [
  {
   "cell_type": "markdown",
   "metadata": {},
   "source": [
    "# Adaptive numerical integration\n",
    "\n",
    "In this project, we apply numerical methods to adaptively compute a definite integral of the type:\n",
    "$$I(f) = \\int_a^b f(x)\\, dx$$\n",
    "a process also called *numerical integration*.\n",
    "\n",
    "We are going to apply the Cavalieri-Simpson integration method on subintervals $[\\alpha, \\beta]$ of the entire integration range $[a,b]$, with $[\\alpha, \\beta] \\subseteq [a,b]$.\n",
    "\n",
    "For reference, see (in italian) [Quarteroni, A., Saleri, F., Sacco, R. (2007), *Matematica numerica*, Milano: Springer](https://www.amazon.it/Matematica-Numerica-Unitext-Quarteroni/dp/8847000777)."
   ]
  },
  {
   "cell_type": "markdown",
   "metadata": {},
   "source": [
    "## Cavalieri-Simpson rule\n",
    "\n",
    "The [Cavalieri-Simpson rule](https://en.wikipedia.org/wiki/Simpson's_rule) approximates a definite integral of a function $f$ on an interval $[\\alpha, \\beta]$ by calculating the definite integral of the polynomial of the second order $P$ (a quadratic polynomial, representing a *parabola*) interpolated on the extremis and midpoint of the interval, in the points: $f(\\alpha)$, $f(\\frac{\\beta + \\alpha}{2})$ and $f(\\beta)$.\n",
    "\n",
    "Considering the integral $I_f(\\alpha, \\beta) = \\int_\\alpha^\\beta f(x)\\,dx$, the stepsize $h_0 = \\frac{\\beta - \\alpha}{2}$ (different from midpoint $\\frac{\\beta + \\alpha}{2}$) and the quadratic interpolant of $f$, $P$:\n",
    "\n",
    "$$S_f(\\alpha, \\beta) = \\int_\\alpha^\\beta P(x)\\,dx = \\frac{h_0}{3} \\Big[f(\\alpha) + 4 f(\\alpha + h_0) + f(\\beta)\\Big]$$\n",
    "\n",
    "This approximation produces an error:\n",
    "\n",
    "$$E_{Sf}(\\alpha, \\beta) = I_f(\\alpha, \\beta) - S_f(\\alpha, \\beta) = - \\frac{h_0^5}{90} f^{(4)}(\\xi)$$\n",
    "\n",
    "where $\\xi \\in (\\alpha, \\beta)$."
   ]
  },
  {
   "cell_type": "code",
   "execution_count": 1,
   "metadata": {},
   "outputs": [],
   "source": [
    "def simpson_rule(func, alpha, beta):\n",
    "    \"\"\"\n",
    "    Approximate the integrand function `func` with a quadrating interpolant.\n",
    "    \n",
    "    :param func: function object to use to evaluate\n",
    "    :param alpha: left extreme of integration\n",
    "    :param beta: right extreme of integration\n",
    "    :returns: approximate integral value\n",
    "    \"\"\"\n",
    "    stepsize = (beta - alpha) * 0.5\n",
    "    return (stepsize / 3) * (func(alpha) + 4 * func(alpha + stepsize) + func(beta))"
   ]
  },
  {
   "cell_type": "code",
   "execution_count": 2,
   "metadata": {},
   "outputs": [
    {
     "name": "stdout",
     "output_type": "stream",
     "text": [
      "The definite integral of x^2 on the interval (0, 1), approximated with the Cavalieri-Simpson method, is: 0.3333.\n"
     ]
    }
   ],
   "source": [
    "func = lambda x: x**2\n",
    "_a, _b = 0, 1\n",
    "\n",
    "print(\"The definite integral of x^2 on the interval (0, 1), approximated \"\n",
    "      \"with the Cavalieri-Simpson method, is: {:.4f}.\".format(\n",
    "          simpson_rule(func, _a, _b)\n",
    "      ))\n",
    "\n",
    "assert abs(simpson_rule(func, _a, _b) - (1 / 3)) <= 1e-6"
   ]
  },
  {
   "cell_type": "markdown",
   "metadata": {},
   "source": [
    "### Error estimation\n",
    "\n",
    "To estimate the error $E_{Sf}$ produced when using Simpson's rule, without calculating $f^{(4)}(\\xi)$, we can calculate the error $E_{Sf2}$ that would result from computing the definite integral $S_{f2}$ on the two subintervals $[\\alpha, \\frac{\\beta + \\alpha}{2}]$ and $[\\frac{\\beta + \\alpha}{2}, \\beta]$:\n",
    "\n",
    "$$S_{f2}(\\alpha, \\beta) = S_f\\Big(\\alpha, \\frac{\\beta + \\alpha}{2}\\Big) + S_f\\Big(\\frac{\\beta + \\alpha}{2}, \\beta\\Big)$$\n",
    "\n",
    "$$E_{Sf2}(\\alpha, \\beta) = \\Big(- \\frac{h^5}{90} f^{(4)}(\\xi)\\Big) + \\Big(- \\frac{h^5}{90} f^{(4)}(\\eta)\\Big) = - \\frac{h^5}{90} \\big(f^{(4)}(\\xi) + f^{(4)}(\\eta)\\big)$$\n",
    "\n",
    "where $\\xi \\in (\\alpha, \\frac{\\beta + \\alpha}{2}), \\eta \\in (\\frac{\\beta + \\alpha}{2}, \\beta)$.\n",
    "\n",
    "The stepsize $h$ in the two subintervals is $\\frac{h_0}{2} = \\frac{\\beta - \\alpha}{2} \\frac{1}{2}$: moreover, if we assume $f$ not to be too much \"variable\" in the interval $[\\alpha, \\beta]$, we can approximate $f^{(4)}(\\xi) \\approx f^{(4)}(\\eta)$:\n",
    "\n",
    "$$E_{Sf2}(\\alpha, \\beta) \\approx - \\frac{(h_0/2)^5}{90} 2 \\cdot f^{(4)}(\\xi) = - \\frac{h_0^5 \\cdot 2}{32 \\cdot 90} f^{(4)}(\\xi) = - \\frac{h_0^5}{16 \\cdot 90} f^{(4)}(\\xi) \\approx I_f(\\alpha, \\beta) - S_{f2}(\\alpha, \\beta)$$\n",
    "\n",
    "$$%E_{Sf2}(\\alpha, \\beta) - E_{Sf}(\\alpha, \\beta) \\approx $$\n",
    "\n",
    "Let's call ${\\large\\varepsilon}_f$ the difference between the two integrations computed with Simpson's rule:\n",
    "\n",
    "$${\\large\\varepsilon}_f(\\alpha, \\beta) = S_f(\\alpha, \\beta) - S_{f2}(\\alpha, \\beta)$$\n",
    "\n",
    "$${\\large\\varepsilon}_f(\\alpha, \\beta) \\approx \\frac{h_0^5}{90} f^{(4)}(\\xi) \\big(1 - \\frac{1}{16}\\big) = \\frac{h_0^5}{90} \\frac{15}{16} f^{(4)}(\\xi)$$\n",
    "\n",
    "$$\\frac{{\\large\\varepsilon}_f(\\alpha, \\beta)}{15} \\approx \\frac{h_0^5}{90 \\cdot 16} \\, f^{(4)}(\\xi) \\approx I_f(\\alpha, \\beta) - S_{f2}(\\alpha, \\beta)$$\n",
    "\n",
    "The previous equation means that we can calculate the error produced by Simpson's integration rule by computing two more integrations on the two sub-intervals."
   ]
  },
  {
   "cell_type": "code",
   "execution_count": 3,
   "metadata": {},
   "outputs": [],
   "source": [
    "def simpson_error(func, alpha, beta, previous_integr=None):\n",
    "    \n",
    "    # Calculate the integral of func on (A,B), if not present.\n",
    "    S_f = previous_integr or simpson_rule(func, alpha, beta)\n",
    "\n",
    "    # Calculate the two integrals on (A, (A+B)/2) + ( (A+B)/2, B).\n",
    "    midpoint = (beta + alpha) * 0.5\n",
    "    S_f2 = simpson_rule(func, alpha, midpoint) + simpson_rule(func, midpoint, beta)\n",
    "    \n",
    "    # Return the absolute error produced and the integral on the sub-intervals.\n",
    "    return abs(S_f - S_f2), S_f2"
   ]
  },
  {
   "cell_type": "markdown",
   "metadata": {},
   "source": [
    "## Adaptive integration\n",
    "\n",
    "We now have an estimate of the error committed by the Simpson's numerical integration method on the function $f$, without having to study its fourth derivative. We can overestimate the error produced and constrain it to be below a certain tolerance threshold ${\\large\\lambda}$:\n",
    "\n",
    "$$\\big|I_f(\\alpha, \\beta) - S_{f2}(\\alpha, \\beta)\\big| \\approx \\frac{{\\large\\varepsilon}_f(\\alpha, \\beta)}{15} \\le \\frac{{\\large\\varepsilon}_f(\\alpha, \\beta)}{10}\\\\\n",
    "\\frac{{\\large\\varepsilon}_f(\\alpha, \\beta)}{10} \\le {\\large\\lambda} \\frac{\\beta-\\alpha}{b-a}$$\n",
    "\n",
    "The adaptive integration method computes an approximation of the definite integral of $f$ over the interval $[a, b]$.\n",
    "\n",
    "The integration is performed by dividing the given interval into smaller intervals, and summing up the integral of those smaller intervals; the criteria used to split the interval uses the previous definition of error of Simpson's rule: if the integral over a subinterval does not satisfy the error estimation, the interval is split in two until the error is contained below a certain threshold."
   ]
  },
  {
   "cell_type": "code",
   "execution_count": 16,
   "metadata": {},
   "outputs": [],
   "source": [
    "def adaptive_integration(func, alpha, beta, tolerance=1e-4, interval_min=1e-3):\n",
    "    \"\"\"\n",
    "    Compute the definite integral of function `func` on `interval`.\n",
    "\n",
    "    :param func: function object to estimate definite integral\n",
    "    :param alpha: left extreme of integration\n",
    "    :param beta: right extreme of integration\n",
    "    :param tolerance: minimum absolute tolerance allowed on error\n",
    "    :param interval_min: minimum distance between extremis\n",
    "    :returns: tuple containing integration result and number of sub-intervals,\n",
    "              optional. Defaults to 1e-4.\n",
    "    :raises ValueError: when interval extremes are below min or interval is\n",
    "                        ill-posed\n",
    "    \"\"\"\n",
    "    orig_start, orig_end = alpha, beta\n",
    "    total_integral = 0\n",
    "    num_interv = 0\n",
    "    \n",
    "    points = [alpha]\n",
    "    \n",
    "    # Continue until alpha reaches the end of the interval of study.\n",
    "    while abs(orig_end - alpha) > 1e-10:\n",
    "        \n",
    "        # Make sure we are within the limits\n",
    "        if abs(beta - alpha) < interval_min or beta < alpha:\n",
    "            msg = (\"Attempting to compute the integral on points [{}, {}], \"\n",
    "                   \"which are at distance {} < {} (minimum), or the end of \"\n",
    "                   \"the interval is smaller than the start.\")\n",
    "            raise ValueError(msg.format(alpha, beta, beta - alpha,\n",
    "                                        interval_min))\n",
    "\n",
    "        # Compute an initial integral, then use it to compute the error.\n",
    "        integr_simple = simpson_rule(func, alpha, beta)\n",
    "        err, integr_halves = simpson_error(func, alpha, beta,\n",
    "                                           previous_integr=integr_simple)\n",
    "\n",
    "        # To guarantee a great accuracy on the whole interval (a, b), we set a\n",
    "        # constraint on the error.\n",
    "        if err * 0.1 < tolerance * (beta - alpha) / (orig_end - orig_start):\n",
    "            print(alpha, beta)\n",
    "            points.append(beta)\n",
    "            num_interv += 1\n",
    "\n",
    "            # Since we know that the error is below the tolerance set, we can use\n",
    "            # the more precise integral computed when estimating the error.\n",
    "            total_integral += integr_halves\n",
    "\n",
    "            # Shift and limit the next interval to the original interval end.\n",
    "            alpha, beta = beta, min(beta + 2 * (beta - alpha), orig_end)\n",
    "\n",
    "        else:\n",
    "            # If the error is larger than the tolerance, halve the interval.\n",
    "            beta = (beta + alpha) * 0.5\n",
    "\n",
    "    plt.plot(points, [0]*len(points), '*')\n",
    "    return total_integral, num_interv"
   ]
  },
  {
   "cell_type": "markdown",
   "metadata": {},
   "source": [
    "### Example on $\\int_{-3}^{4} \\tan^{-1}(10 x)\\,dx$\n",
    "\n",
    "We now test the adaptive numerical integration function just created, on the integrand $\\int \\tan^{-1}(10x)\\,dx$, which can be analytically solved:\n",
    "$$ \\int_{-3}^{4} \\tan^{-1}(10x)\\,dx = x \\tan^{-1}10x - ln(1 + (10 x)^2)/(10 \\cdot 2) \\bigr|_{-3}^{\\;4} = \\\\\n",
    "= 4\\,tan^{-1}(40) + 3\\,tan^{-1} (-30) - \\frac{1}{20} ln(1601/901) = 1.542036217$$\n",
    "as reported by [[Quarteroni]](https://www.amazon.it/Matematica-Numerica-Unitext-Quarteroni/dp/8847000777), page 291; the MatLab implementation subdivides the interval in 38 sub-intervals, and 77 function evaluations on the example problem.\n",
    "\n",
    "Unfortunately, the analytical formula used in the reference book is incorrect; the solution reported uses $ ln\\left(16/9\\right) $, while it should be $ ln\\left(\\frac{1 + (10 \\cdot 4)^2}{1 + (10 \\cdot 3)^2}\\right) = ln\\left(\\frac{1601}{901}\\right)$, thus producing an error of $4.856 \\cdot 10^{-4}$: the absolute error reported on the reference book for the MatLab script is $2.413 \\cdot 10^{-5}$, considered against an incorrect analytical result."
   ]
  },
  {
   "cell_type": "code",
   "execution_count": 17,
   "metadata": {},
   "outputs": [],
   "source": [
    "# Absolute error admitted by the system.\n",
    "tolerance = 1e-4\n",
    "# If the integration interval width goes below `h_min`, stop execution.\n",
    "h_min = 1e-3"
   ]
  },
  {
   "cell_type": "code",
   "execution_count": 20,
   "metadata": {},
   "outputs": [],
   "source": [
    "from math import atan, log\n",
    "\n",
    "import matplotlib\n",
    "matplotlib.rc('figure', figsize=[10,5])\n",
    "import matplotlib.pyplot as plt\n",
    "\n",
    "class count_it:\n",
    "    \"\"\"Decorator that keeps track of the number of times a function is called.\"\"\"\n",
    "\n",
    "    def __init__(self, f):\n",
    "        self.__f = f\n",
    "        self.__numcalls = 0\n",
    "\n",
    "    def __call__(self, *args, **kwargs):\n",
    "        self.__numcalls += 1\n",
    "        return self.__f(*args, **kwargs)\n",
    "\n",
    "    @property\n",
    "    def counter(self):\n",
    "        \"Return the number of times the function was called.\"\n",
    "        return self.__numcalls\n",
    "    \n",
    "    @counter.setter\n",
    "    def counter(self, value):\n",
    "        \"Set the counter of function executions to a specific value.\"\n",
    "        self.__numcalls = value\n",
    "        \n",
    "@count_it\n",
    "def f(x):\n",
    "    return atan(10 * x)"
   ]
  },
  {
   "cell_type": "code",
   "execution_count": 25,
   "metadata": {},
   "outputs": [
    {
     "name": "stdout",
     "output_type": "stream",
     "text": [
      "-3 -2.0\n",
      "-2.0 -1.0\n",
      "-1.0 1.0\n",
      "1.0 2.0\n",
      "2.0 4.0\n",
      "4.0 5\n",
      "Numerical  int.: 3.0905119, on 6 sub-intervals, calling 783 times the function.\n",
      "Analytical int.: 1.5420362\n",
      "\n",
      "Numerical int. vs analytical int. error: 1.548e+00\n"
     ]
    },
    {
     "data": {
      "image/png": "[encoded data removed]",
      "text/plain": [
       "<Figure size 720x360 with 1 Axes>"
      ]
     },
     "metadata": {
      "needs_background": "light"
     },
     "output_type": "display_data"
    }
   ],
   "source": [
    "integr_result, number_intervals = adaptive_integration(f, -3, 5, tolerance, h_min)\n",
    "print(\"Numerical  int.: {:.7f}, on {} sub-intervals, calling {} times \"\n",
    "      \"the function.\".format(integr_result, number_intervals, f.counter))\n",
    "\n",
    "analytical_integr = 4 * atan(40) + 3 * atan(-30) - (1/20) * log(1601/901)\n",
    "print(\"Analytical int.: {:.7f}\".format(analytical_integr))\n",
    "\n",
    "print(\"\\nNumerical int. vs analytical int. error: {:.3e}\".format(abs(integr_result - analytical_integr)))"
   ]
  },
  {
   "cell_type": "markdown",
   "metadata": {},
   "source": [
    "The Python numerical implementation produces an absolute error of $1.259 \\cdot 10^{-5}$ on the example proposed, compared to the analytical result.\n",
    "\n",
    "Note: In case the function to evaluate is time-consuming, an easy performance improvement to implement could use [memoization](https://en.wikipedia.org/wiki/Memoization) ([practical Python implementation and examples](https://stackoverflow.com/questions/1988804/what-is-memoization-and-how-can-i-use-it-in-python)) to store results of the function already computed."
   ]
  },
  {
   "cell_type": "code",
   "execution_count": null,
   "metadata": {},
   "outputs": [],
   "source": []
  }
 ],
 "metadata": {
  "kernelspec": {
   "display_name": "Python 3",
   "language": "python",
   "name": "python3"
  },
  "language_info": {
   "codemirror_mode": {
    "name": "ipython",
    "version": 3
   },
   "file_extension": ".py",
   "mimetype": "text/x-python",
   "name": "python",
   "nbconvert_exporter": "python",
   "pygments_lexer": "ipython3",
   "version": "3.7.3"
  }
 },
 "nbformat": 4,
 "nbformat_minor": 2
}
