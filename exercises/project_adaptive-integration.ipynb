{
 "cells": [
  {
   "cell_type": "markdown",
   "metadata": {},
   "source": [
    "# [Adaptive numerical integration][quarteroni]\n",
    "\n",
    "[quarteroni]: https://www.amazon.it/Matematica-Numerica-Unitext-Quarteroni/dp/8847000777  \"Reference book (in italian)\"\n",
    "\n",
    "\n",
    "In this project, we apply numerical methods to approximate a definite integral of the type: $I(f) = \\int_a^b f(x)\\, dx$, a process also called *numerical integration*.\n",
    "\n",
    "We are going to apply the Cavalieri-Simpson integration method on subintervals $[\\alpha, \\beta]$ of the entire integration range $[a,b]$, with $[\\alpha, \\beta] \\subseteq [a,b]$.\n",
    "\n",
    "## Cavalieri-Simpson rule\n",
    "\n",
    "The Cavalieri-Simpson rule approximates a definite integral of a function $f$ on an interval $[\\alpha, \\beta]$ by calculating the definite integral of the polynomial of the second order $P$ (a quadratic polynomial, representing a *parabola*) interpolated on the extremis and midpoint of the interval, in the points: $f(\\alpha)$, $f(\\frac{\\beta - \\alpha}{2})$ and $f(\\beta)$.\n",
    "\n",
    "Considering $I_f(\\alpha, \\beta) = \\int_\\alpha^\\beta f(x)\\,dx$, $\\;h_0 = \\frac{\\beta - \\alpha}{2}$ and $P$ the quadratic interpolant of $f$:\n",
    "\n",
    "$$S_f(\\alpha, \\beta) = \\int_\\alpha^\\beta P(x)\\,dx = \\frac{h_0}{3} \\Big[f(\\alpha) + 4 f(\\alpha + h_0) + f(\\beta)\\Big]$$\n",
    "\n",
    "This approximation produces an error:\n",
    "\n",
    "$$E_{Sf}(\\alpha, \\beta) = I_f(\\alpha, \\beta) - S_f(\\alpha, \\beta) = - \\frac{h_0^5}{90} f^{(4)}(\\xi)$$\n",
    "\n",
    "where $\\xi \\in (\\alpha, \\beta)$."
   ]
  },
  {
   "cell_type": "code",
   "execution_count": 43,
   "metadata": {},
   "outputs": [],
   "source": [
    "def simpson_rule(func, alpha, beta):\n",
    "    \"\"\"Compute the integrand of the quadratic polynomial of `f' over the interval [alpha, beta].\n",
    "    \n",
    "    We use the midpoint of the interval to calculate the stepsize. \n",
    "    \"\"\"\n",
    "    h_0 = (beta-alpha) * 0.5\n",
    "    return h_0 * 0.3 * (func(alpha) + 4 * func(alpha + h_0) + func(beta))"
   ]
  },
  {
   "cell_type": "code",
   "execution_count": 92,
   "metadata": {},
   "outputs": [
    {
     "name": "stdout",
     "output_type": "stream",
     "text": [
      "0.3\n"
     ]
    },
    {
     "data": {
      "text/plain": [
       "True"
      ]
     },
     "execution_count": 92,
     "metadata": {},
     "output_type": "execute_result"
    }
   ],
   "source": [
    "func = lambda x: x**2\n",
    "_a, _b = 0, 1\n",
    "\n",
    "print(simpson_rule(func, _a, _b))\n",
    "simpson_rule(func, _a, _b) == 0.3 * 1**3 - 0.3 * 0**2"
   ]
  },
  {
   "cell_type": "markdown",
   "metadata": {},
   "source": [
    "### Error estimation\n",
    "\n",
    "To estimate the error $E_{Sf}$ produced when using Simpson's rule, without calculating $f^{(4)}(\\xi)$, we can calculate the error $E_{Sf2}$ that would result from computing the definite integral $S_{f2}$ on the two subintervals $[\\alpha, \\frac{\\beta - \\alpha}{2}]$ and $[\\frac{\\beta - \\alpha}{2}, \\beta]$:\n",
    "\n",
    "$$S_{f2}(\\alpha, \\beta) = S_f\\Big(\\alpha, \\frac{\\beta - \\alpha}{2}\\Big) + S_f\\Big(\\frac{\\beta - \\alpha}{2}, \\beta\\Big)$$\n",
    "\n",
    "$$E_{Sf2}(\\alpha, \\beta) = \\Big(- \\frac{h^5}{90} f^{(4)}(\\xi)\\Big) + \\Big(- \\frac{h^5}{90} f^{(4)}(\\eta)\\Big) = - \\frac{h^5}{90} \\big(f^{(4)}(\\xi) + f^{(4)}(\\eta)\\big)$$\n",
    "\n",
    "where $\\xi \\in (\\alpha, \\frac{\\beta - \\alpha}{2}), \\eta \\in (\\frac{\\beta - \\alpha}{2}, \\beta)$.\n",
    "\n",
    "The stepsize $h$ in the two subintervals is $h_0/2$: moreover, if we assume $f$ not to be too much \"variable\" in the interval $[\\alpha, \\beta]$, we can approximate $f^{(4)}(\\xi) \\approx f^{(4)}(\\eta)$:\n",
    "\n",
    "$$E_{Sf2}(\\alpha, \\beta) \\approx - \\frac{(h_0/2)^5}{90} \\big(2 \\cdot f^{(4)}(\\xi)\\big) = - \\frac{h_0^5}{90} \\frac{2}{32} \\big(f^{(4)}(\\xi)\\big) = - \\frac{h_0^5}{90} \\frac{1}{16} \\big(f^{(4)}(\\xi)\\big) \\approx I_f(\\alpha, \\beta) - S_{f2}(\\alpha, \\beta)$$\n",
    "\n",
    "$$%E_{Sf2}(\\alpha, \\beta) - E_{Sf}(\\alpha, \\beta) \\approx $$\n",
    "\n",
    "Let's call ${\\large\\varepsilon}_f$ the difference between the two integrations computed with Simpson's rule:\n",
    "\n",
    "$${\\large\\varepsilon}_f(\\alpha, \\beta) = S_f(\\alpha, \\beta) - S_{f2}(\\alpha, \\beta)$$\n",
    "\n",
    "$${\\large\\varepsilon}_f(\\alpha, \\beta) \\approx \\frac{h_0^5}{90} f^{(4)}(\\xi) \\big(1 - \\frac{1}{16}\\big) = \\frac{h_0^5}{90} \\frac{15}{16} f^{(4)}(\\xi)$$\n",
    "\n",
    "$$\\frac{{\\large\\varepsilon}_f(\\alpha, \\beta)}{15} \\approx \\frac{h_0^5}{90 \\cdot 16} \\, f^{(4)}(\\xi) \\approx I_f(\\alpha, \\beta) - S_{f2}(\\alpha, \\beta)$$\n",
    "\n",
    "The previous equation means that we can calculate the error produced by Simpson's integration rule by computing two more integrations on the two sub-intervals."
   ]
  },
  {
   "cell_type": "code",
   "execution_count": 48,
   "metadata": {},
   "outputs": [],
   "source": [
    "def simpson_error(func, alpha, beta, previous_integration=None):\n",
    "\n",
    "    h_0 = (beta-alpha) * 0.5\n",
    "    S_f2 = simpson_rule(func, alpha, h_0) + simpson_rule(func, h_0, beta)\n",
    "    \n",
    "    if previous_integration is None:\n",
    "        previous_integration = simpson_rule(func, alpha, beta)\n",
    "    S_f = previous_integration\n",
    "    \n",
    "    epsilon_f = S_f - S_f2\n",
    "    \n",
    "    return epsilon_f * 0.1"
   ]
  },
  {
   "cell_type": "markdown",
   "metadata": {},
   "source": [
    "## Adaptive integration\n",
    "\n",
    "We now have an estimate of the error committed by the Simpson's numerical integration method on the function $f$, without having to study its fourth derivative. We can overestimate the error produced and constrain it to be below a certain tolerance threshold ${\\large\\lambda}$:\n",
    "\n",
    "$$\\big|I_f(\\alpha, \\beta) - S_{f2}(\\alpha, \\beta)\\big| \\approx \\frac{{\\large\\varepsilon}_f(\\alpha, \\beta)}{15} \\le \\frac{{\\large\\varepsilon}_f(\\alpha, \\beta)}{10}\\\\\n",
    "\\frac{{\\large\\varepsilon}_f(\\alpha, \\beta)}{10} \\le {\\large\\lambda} \\frac{\\beta-\\alpha}{b-a}$$"
   ]
  },
  {
   "cell_type": "markdown",
   "metadata": {},
   "source": [
    "The adaptive integration method computes an approximation of the definite integral of $f$ over the interval $[a, b]$.\n",
    "\n",
    "The integration is performed by dividing the given interval into smaller intervals, and summing up the integral of those smaller intervals; the criteria used to split the interval uses the previous definition of error of Simpson's rule: if the integral over a subinterval does not satisfy the error estimation, the interval is split in two until the error is contained below a certain threshold."
   ]
  },
  {
   "cell_type": "code",
   "execution_count": 70,
   "metadata": {},
   "outputs": [],
   "source": [
    "import numpy as np\n",
    "\n",
    "lambda_tolerance = 1e-4\n",
    "# If the integration interval reaches a width below `h_min', stop execution.\n",
    "h_min = 1e-3\n",
    "\n",
    "f = lambda x: np.arctan(10 * x)"
   ]
  },
  {
   "cell_type": "code",
   "execution_count": 143,
   "metadata": {},
   "outputs": [],
   "source": [
    "def adaptive_integration(func, interval, tolerance, h_min, method=\"simpson\"):\n",
    "    alpha, beta = orig_start, orig_end = interval\n",
    "\n",
    "    total_sum = 0\n",
    "    \n",
    "    # Continue until b reaches the end of the interval of study.\n",
    "    while abs(orig_end - alpha) > 1e-10:\n",
    "        # print(\"{:.4f}\".format(alpha), \"{:.4f}\".format(beta))\n",
    "        \n",
    "        if abs(beta - alpha) < h_min or beta < alpha:\n",
    "            raise ValueError(\"Attempt to compute the integral on points [{}, {}], which \"\n",
    "                             \"are at distance {}, below the minimum, or the end of the \"\n",
    "                             \"interval became smaller than the start.\".format(alpha, beta, beta - alpha))\n",
    "\n",
    "        part_integr = simpson_rule(func, alpha, beta)\n",
    "        error = simpson_error(func, alpha, beta, previous_integration=part_integr)\n",
    "\n",
    "        if error < tolerance:\n",
    "            total_sum += part_integr\n",
    "            alpha, beta = beta, beta + 2 * (beta - alpha)\n",
    "            if beta > orig_end:\n",
    "                beta = orig_end\n",
    "        else:\n",
    "            beta -= 0.5 * (beta - alpha)\n",
    "\n",
    "    return total_sum"
   ]
  },
  {
   "cell_type": "code",
   "execution_count": 144,
   "metadata": {},
   "outputs": [
    {
     "data": {
      "text/plain": [
       "1.38719229812847"
      ]
     },
     "execution_count": 144,
     "metadata": {},
     "output_type": "execute_result"
    }
   ],
   "source": [
    "adaptive_integration(f, (-3, 4), lambda_tolerance, h_min)"
   ]
  },
  {
   "cell_type": "code",
   "execution_count": 142,
   "metadata": {},
   "outputs": [
    {
     "data": {
      "text/plain": [
       "1.5420119327087798"
      ]
     },
     "execution_count": 142,
     "metadata": {},
     "output_type": "execute_result"
    }
   ],
   "source": [
    "4 * np.arctan(40) + 3 * np.arctan(-30) - (1/20) * np.log(16/9)"
   ]
  }
 ],
 "metadata": {
  "kernelspec": {
   "display_name": "Python 3",
   "language": "python",
   "name": "python3"
  },
  "language_info": {
   "codemirror_mode": {
    "name": "ipython",
    "version": 3
   },
   "file_extension": ".py",
   "mimetype": "text/x-python",
   "name": "python",
   "nbconvert_exporter": "python",
   "pygments_lexer": "ipython3",
   "version": "3.6.2"
  }
 },
 "nbformat": 4,
 "nbformat_minor": 2
}
